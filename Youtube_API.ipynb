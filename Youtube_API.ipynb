{
 "cells": [
  {
   "cell_type": "markdown",
   "metadata": {
    "ExecuteTime": {
     "end_time": "2021-01-01T13:57:57.473922Z",
     "start_time": "2021-01-01T13:57:57.376935Z"
    }
   },
   "source": [
    "<div style='background-color:red;color:white;padding:20px;text-align:center;font-size:20px'>  YOUTUBE API & ANALYSIS (PART I): USING API </div>"
   ]
  },
  {
   "cell_type": "markdown",
   "metadata": {},
   "source": [
    "# Using API YOUTUBE to download data"
   ]
  },
  {
   "cell_type": "code",
   "execution_count": 1,
   "metadata": {
    "ExecuteTime": {
     "end_time": "2020-12-28T15:28:12.685107Z",
     "start_time": "2020-12-28T15:28:12.681123Z"
    }
   },
   "outputs": [],
   "source": [
    "# important documentation\n",
    "#https://youtube-data-api.readthedocs.io/en/latest/youtube_api.html#module-youtube_api.parsers\n",
    "#example format of parameters: https://developers.google.com/youtube/v3/docs/search/list"
   ]
  },
  {
   "cell_type": "code",
   "execution_count": 16,
   "metadata": {
    "ExecuteTime": {
     "end_time": "2020-12-31T18:34:08.929723Z",
     "start_time": "2020-12-31T18:33:42.153709Z"
    }
   },
   "outputs": [
    {
     "data": {
      "text/html": [
       "        <script type=\"text/javascript\">\n",
       "        window.PlotlyConfig = {MathJaxConfig: 'local'};\n",
       "        if (window.MathJax) {MathJax.Hub.Config({SVG: {font: \"STIX-Web\"}});}\n",
       "        if (typeof require !== 'undefined') {\n",
       "        require.undef(\"plotly\");\n",
       "        requirejs.config({\n",
       "            paths: {\n",
       "                'plotly': ['https://cdn.plot.ly/plotly-latest.min']\n",
       "            }\n",
       "        });\n",
       "        require(['plotly'], function(Plotly) {\n",
       "            window._Plotly = Plotly;\n",
       "        });\n",
       "        }\n",
       "        </script>\n",
       "        "
      ]
     },
     "metadata": {},
     "output_type": "display_data"
    },
    {
     "data": {
      "text/html": [
       "        <script type=\"text/javascript\">\n",
       "        window.PlotlyConfig = {MathJaxConfig: 'local'};\n",
       "        if (window.MathJax) {MathJax.Hub.Config({SVG: {font: \"STIX-Web\"}});}\n",
       "        if (typeof require !== 'undefined') {\n",
       "        require.undef(\"plotly\");\n",
       "        requirejs.config({\n",
       "            paths: {\n",
       "                'plotly': ['https://cdn.plot.ly/plotly-latest.min']\n",
       "            }\n",
       "        });\n",
       "        require(['plotly'], function(Plotly) {\n",
       "            window._Plotly = Plotly;\n",
       "        });\n",
       "        }\n",
       "        </script>\n",
       "        "
      ]
     },
     "metadata": {},
     "output_type": "display_data"
    }
   ],
   "source": [
    "import pandas as pd\n",
    "import datetime as dt\n"
   ]
  },
  {
   "cell_type": "markdown",
   "metadata": {},
   "source": [
    "# MODEL TO GET DATA FROM YOUTUBE API"
   ]
  },
  {
   "cell_type": "code",
   "execution_count": 2,
   "metadata": {
    "ExecuteTime": {
     "end_time": "2020-12-29T10:27:19.110782Z",
     "start_time": "2020-12-29T10:27:19.099781Z"
    }
   },
   "outputs": [
    {
     "data": {
      "text/plain": [
       "[1577829600.0,\n",
       " 1580508000.0,\n",
       " 1583013600.0,\n",
       " 1585688400.0,\n",
       " 1588280400.0,\n",
       " 1590958800.0,\n",
       " 1593550800.0,\n",
       " 1596229200.0,\n",
       " 1598907600.0,\n",
       " 1601499600.0,\n",
       " 1604181600.0,\n",
       " 1606773600.0]"
      ]
     },
     "execution_count": 2,
     "metadata": {},
     "output_type": "execute_result"
    }
   ],
   "source": [
    "# convert datetime to epoch timestamp to have list of time first day of each month in 2020:\n",
    "li=[dt.datetime(2020,i,1,0,0).timestamp() for i in range (1,13)]\n",
    "li"
   ]
  },
  {
   "cell_type": "code",
   "execution_count": 17,
   "metadata": {
    "ExecuteTime": {
     "end_time": "2021-01-01T11:44:48.427441Z",
     "start_time": "2021-01-01T11:44:48.378502Z"
    }
   },
   "outputs": [],
   "source": [
    "# use youtube api\n",
    "from youtube_api import YouTubeDataAPI\n",
    "\n",
    "api_key = 'yourGoogleconsolekey'\n",
    "yt = YouTubeDataAPI(api_key)\n",
    "\n",
    "data_1=yt.search('Finland',max_results=500,published_after=li[0],published_before=li[1], order_by='relevance')\n"
   ]
  },
  {
   "cell_type": "code",
   "execution_count": null,
   "metadata": {},
   "outputs": [],
   "source": [
    "# to avoid reaching quota restricted for maximun dowload perday, I test one by one i/o using for loop:"
   ]
  },
  {
   "cell_type": "code",
   "execution_count": 4,
   "metadata": {
    "ExecuteTime": {
     "end_time": "2020-12-29T10:41:03.774688Z",
     "start_time": "2020-12-29T10:40:58.321191Z"
    }
   },
   "outputs": [],
   "source": [
    "data_2=yt.search('Finland',max_results=500,published_after=li[1],published_before=li[2], order_by='relevance')"
   ]
  },
  {
   "cell_type": "code",
   "execution_count": 6,
   "metadata": {
    "ExecuteTime": {
     "end_time": "2020-12-29T10:42:03.981320Z",
     "start_time": "2020-12-29T10:42:01.028680Z"
    }
   },
   "outputs": [],
   "source": [
    "data_3=yt.search('Finland',max_results=500,published_after=li[2],published_before=li[3], order_by='relevance')"
   ]
  },
  {
   "cell_type": "code",
   "execution_count": 7,
   "metadata": {
    "ExecuteTime": {
     "end_time": "2020-12-29T10:43:30.699040Z",
     "start_time": "2020-12-29T10:43:27.852721Z"
    }
   },
   "outputs": [],
   "source": [
    "data_4=yt.search('Finland',max_results=500,published_after=li[3],published_before=li[4], order_by='relevance')"
   ]
  },
  {
   "cell_type": "code",
   "execution_count": 8,
   "metadata": {
    "ExecuteTime": {
     "end_time": "2020-12-29T10:43:55.107359Z",
     "start_time": "2020-12-29T10:43:48.982593Z"
    }
   },
   "outputs": [],
   "source": [
    "data_5=yt.search('Finland',max_results=500,published_after=li[4],published_before=li[5], order_by='relevance')"
   ]
  },
  {
   "cell_type": "code",
   "execution_count": 9,
   "metadata": {
    "ExecuteTime": {
     "end_time": "2020-12-29T10:44:37.106952Z",
     "start_time": "2020-12-29T10:44:33.655403Z"
    }
   },
   "outputs": [],
   "source": [
    "data_6=yt.search('Finland',max_results=500,published_after=li[5],published_before=li[6], order_by='relevance')"
   ]
  },
  {
   "cell_type": "code",
   "execution_count": 10,
   "metadata": {
    "ExecuteTime": {
     "end_time": "2020-12-29T10:45:02.105687Z",
     "start_time": "2020-12-29T10:44:59.010008Z"
    }
   },
   "outputs": [],
   "source": [
    "data_7=yt.search('Finland',max_results=500,published_after=li[6],published_before=li[7], order_by='relevance')"
   ]
  },
  {
   "cell_type": "code",
   "execution_count": 11,
   "metadata": {
    "ExecuteTime": {
     "end_time": "2020-12-29T10:45:39.352949Z",
     "start_time": "2020-12-29T10:45:36.277013Z"
    }
   },
   "outputs": [],
   "source": [
    "data_8=yt.search('Finland',max_results=500,published_after=li[7],published_before=li[8], order_by='relevance')"
   ]
  },
  {
   "cell_type": "code",
   "execution_count": 12,
   "metadata": {
    "ExecuteTime": {
     "end_time": "2020-12-29T10:45:55.666664Z",
     "start_time": "2020-12-29T10:45:49.116655Z"
    }
   },
   "outputs": [],
   "source": [
    "data_9=yt.search('Finland',max_results=500,published_after=li[8],published_before=li[9], order_by='relevance')"
   ]
  },
  {
   "cell_type": "code",
   "execution_count": 13,
   "metadata": {
    "ExecuteTime": {
     "end_time": "2020-12-29T10:46:14.548901Z",
     "start_time": "2020-12-29T10:46:11.256087Z"
    }
   },
   "outputs": [],
   "source": [
    "data_10=yt.search('Finland',max_results=500,published_after=li[9],published_before=li[10], order_by='relevance')"
   ]
  },
  {
   "cell_type": "code",
   "execution_count": 15,
   "metadata": {
    "ExecuteTime": {
     "end_time": "2020-12-29T10:48:03.544419Z",
     "start_time": "2020-12-29T10:47:57.752093Z"
    }
   },
   "outputs": [],
   "source": [
    "data_11=yt.search('Finland',max_results=500,published_after=li[10],published_before=li[11], order_by='relevance')"
   ]
  },
  {
   "cell_type": "code",
   "execution_count": 14,
   "metadata": {
    "ExecuteTime": {
     "end_time": "2020-12-29T10:47:50.842819Z",
     "start_time": "2020-12-29T10:47:44.926692Z"
    }
   },
   "outputs": [],
   "source": [
    "data_12=yt.search('Finland',max_results=500,published_after=li[11], order_by='relevance')"
   ]
  },
  {
   "cell_type": "code",
   "execution_count": 5,
   "metadata": {
    "ExecuteTime": {
     "end_time": "2020-12-28T15:28:24.474582Z",
     "start_time": "2020-12-28T15:28:24.461585Z"
    }
   },
   "outputs": [],
   "source": [
    "#https://youtube-data-api.readthedocs.io/en/latest/usage/quickstart.html\n",
    "# there are duplicates in video_id due to content creator upload video twice."
   ]
  },
  {
   "cell_type": "code",
   "execution_count": 33,
   "metadata": {
    "ExecuteTime": {
     "end_time": "2020-12-29T11:27:50.701500Z",
     "start_time": "2020-12-29T11:27:50.531508Z"
    }
   },
   "outputs": [],
   "source": [
    "year_data=pd.concat([pd.DataFrame(eval('data_'+str(i))) for i in range(1,13)],ignore_index=True)"
   ]
  },
  {
   "cell_type": "code",
   "execution_count": 35,
   "metadata": {
    "ExecuteTime": {
     "end_time": "2020-12-29T11:27:58.359262Z",
     "start_time": "2020-12-29T11:27:58.319241Z"
    }
   },
   "outputs": [],
   "source": [
    "year_data.drop_duplicates(subset='video_id',inplace=True,ignore_index=True)"
   ]
  },
  {
   "cell_type": "code",
   "execution_count": 1,
   "metadata": {
    "ExecuteTime": {
     "end_time": "2021-01-02T20:06:33.506458Z",
     "start_time": "2021-01-02T20:06:33.489457Z"
    },
    "scrolled": true
   },
   "outputs": [],
   "source": [
    "#year_data"
   ]
  },
  {
   "cell_type": "markdown",
   "metadata": {},
   "source": [
    "# GET CHANNEL META DATA"
   ]
  },
  {
   "cell_type": "code",
   "execution_count": 37,
   "metadata": {
    "ExecuteTime": {
     "end_time": "2020-12-29T11:29:08.596055Z",
     "start_time": "2020-12-29T11:28:54.218474Z"
    }
   },
   "outputs": [],
   "source": [
    "data_ch=yt.get_channel_metadata(year_data.channel_id)"
   ]
  },
  {
   "cell_type": "code",
   "execution_count": 2,
   "metadata": {
    "ExecuteTime": {
     "end_time": "2021-01-02T20:06:36.571448Z",
     "start_time": "2021-01-02T20:06:36.556463Z"
    }
   },
   "outputs": [],
   "source": [
    "#data_ch"
   ]
  },
  {
   "cell_type": "code",
   "execution_count": 40,
   "metadata": {
    "ExecuteTime": {
     "end_time": "2020-12-29T11:34:01.942399Z",
     "start_time": "2020-12-29T11:34:01.843401Z"
    }
   },
   "outputs": [],
   "source": [
    "data_chs=pd.DataFrame(data_ch)[['channel_id','country','subscription_count']]"
   ]
  },
  {
   "cell_type": "code",
   "execution_count": 41,
   "metadata": {
    "ExecuteTime": {
     "end_time": "2020-12-29T11:34:24.549447Z",
     "start_time": "2020-12-29T11:34:24.537449Z"
    }
   },
   "outputs": [],
   "source": [
    "data_chs.drop_duplicates(subset='channel_id',inplace=True,ignore_index=True)"
   ]
  },
  {
   "cell_type": "code",
   "execution_count": 42,
   "metadata": {
    "ExecuteTime": {
     "end_time": "2020-12-29T11:35:10.623789Z",
     "start_time": "2020-12-29T11:35:10.598786Z"
    }
   },
   "outputs": [
    {
     "data": {
      "text/html": [
       "<div>\n",
       "<style scoped>\n",
       "    .dataframe tbody tr th:only-of-type {\n",
       "        vertical-align: middle;\n",
       "    }\n",
       "\n",
       "    .dataframe tbody tr th {\n",
       "        vertical-align: top;\n",
       "    }\n",
       "\n",
       "    .dataframe thead th {\n",
       "        text-align: right;\n",
       "    }\n",
       "</style>\n",
       "<table border=\"1\" class=\"dataframe\">\n",
       "  <thead>\n",
       "    <tr style=\"text-align: right;\">\n",
       "      <th></th>\n",
       "      <th>channel_id</th>\n",
       "      <th>country</th>\n",
       "      <th>subscription_count</th>\n",
       "    </tr>\n",
       "  </thead>\n",
       "  <tbody>\n",
       "    <tr>\n",
       "      <th>0</th>\n",
       "      <td>UCN3U77hj4a8bJ0jpwSxaZFw</td>\n",
       "      <td>FI</td>\n",
       "      <td>56800</td>\n",
       "    </tr>\n",
       "    <tr>\n",
       "      <th>1</th>\n",
       "      <td>UClmllMC5YHLqhek-9K4vGiA</td>\n",
       "      <td>CA</td>\n",
       "      <td>10600</td>\n",
       "    </tr>\n",
       "    <tr>\n",
       "      <th>2</th>\n",
       "      <td>UCBugLGGUoeaW4Y1zvJu1hVg</td>\n",
       "      <td>US</td>\n",
       "      <td>19000</td>\n",
       "    </tr>\n",
       "    <tr>\n",
       "      <th>3</th>\n",
       "      <td>UCV2WjnzKqjMEHw72i_KUNHA</td>\n",
       "      <td>EE</td>\n",
       "      <td>1160</td>\n",
       "    </tr>\n",
       "    <tr>\n",
       "      <th>4</th>\n",
       "      <td>UCgY78htzDfjY4C6LQlMfJyg</td>\n",
       "      <td>None</td>\n",
       "      <td>10900</td>\n",
       "    </tr>\n",
       "    <tr>\n",
       "      <th>...</th>\n",
       "      <td>...</td>\n",
       "      <td>...</td>\n",
       "      <td>...</td>\n",
       "    </tr>\n",
       "    <tr>\n",
       "      <th>2235</th>\n",
       "      <td>UCzsvSXSk01GJc0QDUt7eYiA</td>\n",
       "      <td>None</td>\n",
       "      <td>45500</td>\n",
       "    </tr>\n",
       "    <tr>\n",
       "      <th>2236</th>\n",
       "      <td>UCHLYPA82L1AFIXBIX05xH5Q</td>\n",
       "      <td>None</td>\n",
       "      <td>60500</td>\n",
       "    </tr>\n",
       "    <tr>\n",
       "      <th>2237</th>\n",
       "      <td>UCP2pJfS-kLSojKi4Ca2J8uw</td>\n",
       "      <td>CA</td>\n",
       "      <td>672</td>\n",
       "    </tr>\n",
       "    <tr>\n",
       "      <th>2238</th>\n",
       "      <td>UCh4ACQfp2ldWGG9UQpaFG6w</td>\n",
       "      <td>None</td>\n",
       "      <td>290</td>\n",
       "    </tr>\n",
       "    <tr>\n",
       "      <th>2239</th>\n",
       "      <td>UCrF8yXVVHd7Z6F0uQpqqSsQ</td>\n",
       "      <td>None</td>\n",
       "      <td>2480</td>\n",
       "    </tr>\n",
       "  </tbody>\n",
       "</table>\n",
       "<p>2240 rows × 3 columns</p>\n",
       "</div>"
      ],
      "text/plain": [
       "                    channel_id country subscription_count\n",
       "0     UCN3U77hj4a8bJ0jpwSxaZFw      FI              56800\n",
       "1     UClmllMC5YHLqhek-9K4vGiA      CA              10600\n",
       "2     UCBugLGGUoeaW4Y1zvJu1hVg      US              19000\n",
       "3     UCV2WjnzKqjMEHw72i_KUNHA      EE               1160\n",
       "4     UCgY78htzDfjY4C6LQlMfJyg    None              10900\n",
       "...                        ...     ...                ...\n",
       "2235  UCzsvSXSk01GJc0QDUt7eYiA    None              45500\n",
       "2236  UCHLYPA82L1AFIXBIX05xH5Q    None              60500\n",
       "2237  UCP2pJfS-kLSojKi4Ca2J8uw      CA                672\n",
       "2238  UCh4ACQfp2ldWGG9UQpaFG6w    None                290\n",
       "2239  UCrF8yXVVHd7Z6F0uQpqqSsQ    None               2480\n",
       "\n",
       "[2240 rows x 3 columns]"
      ]
     },
     "execution_count": 42,
     "metadata": {},
     "output_type": "execute_result"
    }
   ],
   "source": [
    "#data_chs"
   ]
  },
  {
   "cell_type": "markdown",
   "metadata": {},
   "source": [
    "## API get video metadata by providing video_id"
   ]
  },
  {
   "cell_type": "code",
   "execution_count": 43,
   "metadata": {
    "ExecuteTime": {
     "end_time": "2020-12-29T11:36:46.945512Z",
     "start_time": "2020-12-29T11:35:54.539878Z"
    }
   },
   "outputs": [],
   "source": [
    "meta_video=yt.get_video_metadata(year_data.video_id)"
   ]
  },
  {
   "cell_type": "code",
   "execution_count": 44,
   "metadata": {
    "ExecuteTime": {
     "end_time": "2020-12-29T12:03:52.158873Z",
     "start_time": "2020-12-29T12:03:52.121873Z"
    }
   },
   "outputs": [],
   "source": [
    "meta_video=pd.DataFrame(meta_video)"
   ]
  },
  {
   "cell_type": "code",
   "execution_count": 45,
   "metadata": {
    "ExecuteTime": {
     "end_time": "2020-12-29T13:57:48.021543Z",
     "start_time": "2020-12-29T13:57:47.899549Z"
    }
   },
   "outputs": [],
   "source": [
    "meta_video.drop_duplicates(subset='channel_id',inplace=True,ignore_index=True)"
   ]
  },
  {
   "cell_type": "code",
   "execution_count": 47,
   "metadata": {
    "ExecuteTime": {
     "end_time": "2020-12-29T13:58:21.889544Z",
     "start_time": "2020-12-29T13:58:21.861561Z"
    }
   },
   "outputs": [
    {
     "data": {
      "text/plain": [
       "Index(['video_id', 'channel_title', 'channel_id', 'video_publish_date',\n",
       "       'video_title', 'video_description', 'video_category',\n",
       "       'video_view_count', 'video_comment_count', 'video_like_count',\n",
       "       'video_dislike_count', 'video_thumbnail', 'video_tags',\n",
       "       'collection_date'],\n",
       "      dtype='object')"
      ]
     },
     "execution_count": 47,
     "metadata": {},
     "output_type": "execute_result"
    }
   ],
   "source": [
    "meta_video.columns"
   ]
  },
  {
   "cell_type": "code",
   "execution_count": 48,
   "metadata": {
    "ExecuteTime": {
     "end_time": "2020-12-29T13:58:45.822494Z",
     "start_time": "2020-12-29T13:58:45.791509Z"
    }
   },
   "outputs": [],
   "source": [
    "meta_videos=meta_video[['video_id','video_category',\n",
    "       'video_view_count', 'video_comment_count', 'video_like_count',\n",
    "       'video_dislike_count', 'video_tags']]"
   ]
  },
  {
   "cell_type": "markdown",
   "metadata": {},
   "source": [
    "### MERGING 3 DATAFRAME TO HAVE COMPLETE VERSION"
   ]
  },
  {
   "cell_type": "code",
   "execution_count": 209,
   "metadata": {
    "ExecuteTime": {
     "end_time": "2020-12-29T19:26:14.935647Z",
     "start_time": "2020-12-29T19:26:14.841670Z"
    }
   },
   "outputs": [],
   "source": [
    "data_final=pd.merge(year_data,meta_videos,on='video_id').merge(data_chs,on='channel_id',validate='m:1')"
   ]
  },
  {
   "cell_type": "code",
   "execution_count": 210,
   "metadata": {
    "ExecuteTime": {
     "end_time": "2020-12-29T19:26:16.151390Z",
     "start_time": "2020-12-29T19:26:16.069397Z"
    }
   },
   "outputs": [
    {
     "data": {
      "text/html": [
       "<div>\n",
       "<style scoped>\n",
       "    .dataframe tbody tr th:only-of-type {\n",
       "        vertical-align: middle;\n",
       "    }\n",
       "\n",
       "    .dataframe tbody tr th {\n",
       "        vertical-align: top;\n",
       "    }\n",
       "\n",
       "    .dataframe thead th {\n",
       "        text-align: right;\n",
       "    }\n",
       "</style>\n",
       "<table border=\"1\" class=\"dataframe\">\n",
       "  <thead>\n",
       "    <tr style=\"text-align: right;\">\n",
       "      <th></th>\n",
       "      <th>video_id</th>\n",
       "      <th>channel_title</th>\n",
       "      <th>channel_id</th>\n",
       "      <th>video_publish_date</th>\n",
       "      <th>video_title</th>\n",
       "      <th>video_description</th>\n",
       "      <th>video_category_x</th>\n",
       "      <th>video_thumbnail</th>\n",
       "      <th>collection_date</th>\n",
       "      <th>video_category_y</th>\n",
       "      <th>video_view_count</th>\n",
       "      <th>video_comment_count</th>\n",
       "      <th>video_like_count</th>\n",
       "      <th>video_dislike_count</th>\n",
       "      <th>video_tags</th>\n",
       "      <th>country</th>\n",
       "      <th>subscription_count</th>\n",
       "    </tr>\n",
       "  </thead>\n",
       "  <tbody>\n",
       "    <tr>\n",
       "      <th>0</th>\n",
       "      <td>-bgSMJwNxto</td>\n",
       "      <td>Rahman Vlogs</td>\n",
       "      <td>UCqzaFIWTfjRO8NThn55FzNg</td>\n",
       "      <td>1.579355e+09</td>\n",
       "      <td>Finland should be better than Portugal for tem...</td>\n",
       "      <td>Finland temporary resident permit, how to get ...</td>\n",
       "      <td>None</td>\n",
       "      <td>https://i.ytimg.com/vi/-bgSMJwNxto/hqdefault.jpg</td>\n",
       "      <td>2020-12-29 12:39:54.546962</td>\n",
       "      <td>22</td>\n",
       "      <td>48485</td>\n",
       "      <td>451</td>\n",
       "      <td>1915</td>\n",
       "      <td>102</td>\n",
       "      <td>Finland visa|Finland workpermit visa|Finland s...</td>\n",
       "      <td>SA</td>\n",
       "      <td>None</td>\n",
       "    </tr>\n",
       "    <tr>\n",
       "      <th>1</th>\n",
       "      <td>j3AkWDQ2zHo</td>\n",
       "      <td>Bright Freak</td>\n",
       "      <td>UCjb-NG7TYGmGDnO2jh3nRsg</td>\n",
       "      <td>1.579630e+09</td>\n",
       "      <td>Amazing Places to Visit in Finland</td>\n",
       "      <td>Read the article here: Visit our website: http...</td>\n",
       "      <td>None</td>\n",
       "      <td>https://i.ytimg.com/vi/j3AkWDQ2zHo/hqdefault.jpg</td>\n",
       "      <td>2020-12-29 12:39:54.546962</td>\n",
       "      <td>22</td>\n",
       "      <td>4300</td>\n",
       "      <td>5</td>\n",
       "      <td>73</td>\n",
       "      <td>6</td>\n",
       "      <td>Finland|Bucket List|Scandinavia|Food|Nature|Th...</td>\n",
       "      <td>SE</td>\n",
       "      <td>5620</td>\n",
       "    </tr>\n",
       "    <tr>\n",
       "      <th>2</th>\n",
       "      <td>HQ08HOfWD9s</td>\n",
       "      <td>Ultimate knowledge</td>\n",
       "      <td>UC2_Kceh_bA-KdYXlcqsmEtA</td>\n",
       "      <td>1.578287e+09</td>\n",
       "      <td>finland amazing facts in hindi | Finland facts...</td>\n",
       "      <td>Finland is considered the happiest country in ...</td>\n",
       "      <td>None</td>\n",
       "      <td>https://i.ytimg.com/vi/HQ08HOfWD9s/hqdefault.jpg</td>\n",
       "      <td>2020-12-29 12:39:54.546962</td>\n",
       "      <td>27</td>\n",
       "      <td>6766</td>\n",
       "      <td>7</td>\n",
       "      <td>109</td>\n",
       "      <td>13</td>\n",
       "      <td>finland country|finland city|finland capital|f...</td>\n",
       "      <td>IN</td>\n",
       "      <td>326000</td>\n",
       "    </tr>\n",
       "    <tr>\n",
       "      <th>3</th>\n",
       "      <td>72U886OlMpg</td>\n",
       "      <td>ABC News (Australia)</td>\n",
       "      <td>UCVgO39Bk5sMo66-6o6Spn6Q</td>\n",
       "      <td>1.579152e+09</td>\n",
       "      <td>Finland facing the threat of Russian hackers |...</td>\n",
       "      <td>The Mueller report laid bare the extent of Rus...</td>\n",
       "      <td>None</td>\n",
       "      <td>https://i.ytimg.com/vi/72U886OlMpg/hqdefault.jpg</td>\n",
       "      <td>2020-12-29 12:39:54.546962</td>\n",
       "      <td>25</td>\n",
       "      <td>5628</td>\n",
       "      <td>None</td>\n",
       "      <td>109</td>\n",
       "      <td>25</td>\n",
       "      <td>Australia|abc|abc news|news|finland|russia|hac...</td>\n",
       "      <td>AU</td>\n",
       "      <td>1240000</td>\n",
       "    </tr>\n",
       "    <tr>\n",
       "      <th>4</th>\n",
       "      <td>axoQ8G9hkPA</td>\n",
       "      <td>C Dream</td>\n",
       "      <td>UCfMr71ctrFLseCBrGb6IClQ</td>\n",
       "      <td>1.580190e+09</td>\n",
       "      <td>Finland seasonal work visa malayalam</td>\n",
       "      <td>oo USA visa malayalam https://youtu.be/mu2lEiV...</td>\n",
       "      <td>None</td>\n",
       "      <td>https://i.ytimg.com/vi/axoQ8G9hkPA/hqdefault.jpg</td>\n",
       "      <td>2020-12-29 12:39:54.547981</td>\n",
       "      <td>22</td>\n",
       "      <td>26821</td>\n",
       "      <td>175</td>\n",
       "      <td>887</td>\n",
       "      <td>34</td>\n",
       "      <td>#c_dream\\n#finland_work_visa_malayalam \\n#citi...</td>\n",
       "      <td>IN</td>\n",
       "      <td>97500</td>\n",
       "    </tr>\n",
       "    <tr>\n",
       "      <th>...</th>\n",
       "      <td>...</td>\n",
       "      <td>...</td>\n",
       "      <td>...</td>\n",
       "      <td>...</td>\n",
       "      <td>...</td>\n",
       "      <td>...</td>\n",
       "      <td>...</td>\n",
       "      <td>...</td>\n",
       "      <td>...</td>\n",
       "      <td>...</td>\n",
       "      <td>...</td>\n",
       "      <td>...</td>\n",
       "      <td>...</td>\n",
       "      <td>...</td>\n",
       "      <td>...</td>\n",
       "      <td>...</td>\n",
       "      <td>...</td>\n",
       "    </tr>\n",
       "    <tr>\n",
       "      <th>2235</th>\n",
       "      <td>jCnGlQnIeUA</td>\n",
       "      <td>Metallicaleb</td>\n",
       "      <td>UCh4ACQfp2ldWGG9UQpaFG6w</td>\n",
       "      <td>1.608753e+09</td>\n",
       "      <td>Metallica: Live in Hämeenlinna, Finland 2019 (...</td>\n",
       "      <td></td>\n",
       "      <td>None</td>\n",
       "      <td>https://i.ytimg.com/vi/jCnGlQnIeUA/hqdefault.jpg</td>\n",
       "      <td>2020-12-29 12:47:50.833560</td>\n",
       "      <td>10</td>\n",
       "      <td>114</td>\n",
       "      <td>3</td>\n",
       "      <td>10</td>\n",
       "      <td>0</td>\n",
       "      <td></td>\n",
       "      <td>None</td>\n",
       "      <td>290</td>\n",
       "    </tr>\n",
       "    <tr>\n",
       "      <th>2236</th>\n",
       "      <td>41fBMXI8NGs</td>\n",
       "      <td>Strides and Summits</td>\n",
       "      <td>UCP2pJfS-kLSojKi4Ca2J8uw</td>\n",
       "      <td>1.608730e+09</td>\n",
       "      <td>[4k] Treadmill Scenery | The Tip of Finland | ...</td>\n",
       "      <td>Spend an hour visiting the Southwest tip of Fi...</td>\n",
       "      <td>None</td>\n",
       "      <td>https://i.ytimg.com/vi/41fBMXI8NGs/hqdefault.jpg</td>\n",
       "      <td>2020-12-29 12:47:50.834557</td>\n",
       "      <td>17</td>\n",
       "      <td>136</td>\n",
       "      <td>2</td>\n",
       "      <td>9</td>\n",
       "      <td>0</td>\n",
       "      <td>treadmill scenery|treadmill running scenery|tr...</td>\n",
       "      <td>CA</td>\n",
       "      <td>672</td>\n",
       "    </tr>\n",
       "    <tr>\n",
       "      <th>2237</th>\n",
       "      <td>QUdXgqoQAQE</td>\n",
       "      <td>NextDisneyChannel</td>\n",
       "      <td>UCzsvSXSk01GJc0QDUt7eYiA</td>\n",
       "      <td>1.608498e+09</td>\n",
       "      <td>Nelonen Finland - ANIMATED DISNEY FAMILY MOVIE...</td>\n",
       "      <td>Nelonen Finland - ANIMATED DISNEY FAMILY MOVIE...</td>\n",
       "      <td>None</td>\n",
       "      <td>https://i.ytimg.com/vi/QUdXgqoQAQE/hqdefault.jpg</td>\n",
       "      <td>2020-12-29 12:47:50.835557</td>\n",
       "      <td>24</td>\n",
       "      <td>455</td>\n",
       "      <td>0</td>\n",
       "      <td>4</td>\n",
       "      <td>0</td>\n",
       "      <td>bumper|animation|scandinavia|skandinavien|sver...</td>\n",
       "      <td>None</td>\n",
       "      <td>45500</td>\n",
       "    </tr>\n",
       "    <tr>\n",
       "      <th>2238</th>\n",
       "      <td>0Ey-mHUV6n4</td>\n",
       "      <td>Ray Gamer</td>\n",
       "      <td>UCHLYPA82L1AFIXBIX05xH5Q</td>\n",
       "      <td>1.607782e+09</td>\n",
       "      <td>Assoluto Racing vs Rush Rally 3 - Rally Finland</td>\n",
       "      <td>Mobile Games Comparison.</td>\n",
       "      <td>None</td>\n",
       "      <td>https://i.ytimg.com/vi/0Ey-mHUV6n4/hqdefault.jpg</td>\n",
       "      <td>2020-12-29 12:47:50.835557</td>\n",
       "      <td>20</td>\n",
       "      <td>3011</td>\n",
       "      <td>42</td>\n",
       "      <td>123</td>\n",
       "      <td>4</td>\n",
       "      <td>Racing</td>\n",
       "      <td>None</td>\n",
       "      <td>60500</td>\n",
       "    </tr>\n",
       "    <tr>\n",
       "      <th>2239</th>\n",
       "      <td>MLVCJU_pOho</td>\n",
       "      <td>tevenostalgie</td>\n",
       "      <td>UCrF8yXVVHd7Z6F0uQpqqSsQ</td>\n",
       "      <td>1.608980e+09</td>\n",
       "      <td>Eurovision-Anthemn Finland (YLE, 1990)</td>\n",
       "      <td>I recorded this on VHS at the time.</td>\n",
       "      <td>None</td>\n",
       "      <td>https://i.ytimg.com/vi/MLVCJU_pOho/hqdefault.jpg</td>\n",
       "      <td>2020-12-29 12:47:50.836557</td>\n",
       "      <td>24</td>\n",
       "      <td>112</td>\n",
       "      <td>0</td>\n",
       "      <td>9</td>\n",
       "      <td>0</td>\n",
       "      <td>Fernsehen|TV|Television|Openers|Intro|Intros|L...</td>\n",
       "      <td>None</td>\n",
       "      <td>2480</td>\n",
       "    </tr>\n",
       "  </tbody>\n",
       "</table>\n",
       "<p>2240 rows × 17 columns</p>\n",
       "</div>"
      ],
      "text/plain": [
       "         video_id         channel_title                channel_id  \\\n",
       "0     -bgSMJwNxto          Rahman Vlogs  UCqzaFIWTfjRO8NThn55FzNg   \n",
       "1     j3AkWDQ2zHo          Bright Freak  UCjb-NG7TYGmGDnO2jh3nRsg   \n",
       "2     HQ08HOfWD9s    Ultimate knowledge  UC2_Kceh_bA-KdYXlcqsmEtA   \n",
       "3     72U886OlMpg  ABC News (Australia)  UCVgO39Bk5sMo66-6o6Spn6Q   \n",
       "4     axoQ8G9hkPA               C Dream  UCfMr71ctrFLseCBrGb6IClQ   \n",
       "...           ...                   ...                       ...   \n",
       "2235  jCnGlQnIeUA          Metallicaleb  UCh4ACQfp2ldWGG9UQpaFG6w   \n",
       "2236  41fBMXI8NGs   Strides and Summits  UCP2pJfS-kLSojKi4Ca2J8uw   \n",
       "2237  QUdXgqoQAQE     NextDisneyChannel  UCzsvSXSk01GJc0QDUt7eYiA   \n",
       "2238  0Ey-mHUV6n4             Ray Gamer  UCHLYPA82L1AFIXBIX05xH5Q   \n",
       "2239  MLVCJU_pOho         tevenostalgie  UCrF8yXVVHd7Z6F0uQpqqSsQ   \n",
       "\n",
       "      video_publish_date                                        video_title  \\\n",
       "0           1.579355e+09  Finland should be better than Portugal for tem...   \n",
       "1           1.579630e+09                 Amazing Places to Visit in Finland   \n",
       "2           1.578287e+09  finland amazing facts in hindi | Finland facts...   \n",
       "3           1.579152e+09  Finland facing the threat of Russian hackers |...   \n",
       "4           1.580190e+09               Finland seasonal work visa malayalam   \n",
       "...                  ...                                                ...   \n",
       "2235        1.608753e+09  Metallica: Live in Hämeenlinna, Finland 2019 (...   \n",
       "2236        1.608730e+09  [4k] Treadmill Scenery | The Tip of Finland | ...   \n",
       "2237        1.608498e+09  Nelonen Finland - ANIMATED DISNEY FAMILY MOVIE...   \n",
       "2238        1.607782e+09    Assoluto Racing vs Rush Rally 3 - Rally Finland   \n",
       "2239        1.608980e+09             Eurovision-Anthemn Finland (YLE, 1990)   \n",
       "\n",
       "                                      video_description video_category_x  \\\n",
       "0     Finland temporary resident permit, how to get ...             None   \n",
       "1     Read the article here: Visit our website: http...             None   \n",
       "2     Finland is considered the happiest country in ...             None   \n",
       "3     The Mueller report laid bare the extent of Rus...             None   \n",
       "4     oo USA visa malayalam https://youtu.be/mu2lEiV...             None   \n",
       "...                                                 ...              ...   \n",
       "2235                                                                None   \n",
       "2236  Spend an hour visiting the Southwest tip of Fi...             None   \n",
       "2237  Nelonen Finland - ANIMATED DISNEY FAMILY MOVIE...             None   \n",
       "2238                           Mobile Games Comparison.             None   \n",
       "2239                I recorded this on VHS at the time.             None   \n",
       "\n",
       "                                       video_thumbnail  \\\n",
       "0     https://i.ytimg.com/vi/-bgSMJwNxto/hqdefault.jpg   \n",
       "1     https://i.ytimg.com/vi/j3AkWDQ2zHo/hqdefault.jpg   \n",
       "2     https://i.ytimg.com/vi/HQ08HOfWD9s/hqdefault.jpg   \n",
       "3     https://i.ytimg.com/vi/72U886OlMpg/hqdefault.jpg   \n",
       "4     https://i.ytimg.com/vi/axoQ8G9hkPA/hqdefault.jpg   \n",
       "...                                                ...   \n",
       "2235  https://i.ytimg.com/vi/jCnGlQnIeUA/hqdefault.jpg   \n",
       "2236  https://i.ytimg.com/vi/41fBMXI8NGs/hqdefault.jpg   \n",
       "2237  https://i.ytimg.com/vi/QUdXgqoQAQE/hqdefault.jpg   \n",
       "2238  https://i.ytimg.com/vi/0Ey-mHUV6n4/hqdefault.jpg   \n",
       "2239  https://i.ytimg.com/vi/MLVCJU_pOho/hqdefault.jpg   \n",
       "\n",
       "                collection_date video_category_y video_view_count  \\\n",
       "0    2020-12-29 12:39:54.546962               22            48485   \n",
       "1    2020-12-29 12:39:54.546962               22             4300   \n",
       "2    2020-12-29 12:39:54.546962               27             6766   \n",
       "3    2020-12-29 12:39:54.546962               25             5628   \n",
       "4    2020-12-29 12:39:54.547981               22            26821   \n",
       "...                         ...              ...              ...   \n",
       "2235 2020-12-29 12:47:50.833560               10              114   \n",
       "2236 2020-12-29 12:47:50.834557               17              136   \n",
       "2237 2020-12-29 12:47:50.835557               24              455   \n",
       "2238 2020-12-29 12:47:50.835557               20             3011   \n",
       "2239 2020-12-29 12:47:50.836557               24              112   \n",
       "\n",
       "     video_comment_count video_like_count video_dislike_count  \\\n",
       "0                    451             1915                 102   \n",
       "1                      5               73                   6   \n",
       "2                      7              109                  13   \n",
       "3                   None              109                  25   \n",
       "4                    175              887                  34   \n",
       "...                  ...              ...                 ...   \n",
       "2235                   3               10                   0   \n",
       "2236                   2                9                   0   \n",
       "2237                   0                4                   0   \n",
       "2238                  42              123                   4   \n",
       "2239                   0                9                   0   \n",
       "\n",
       "                                             video_tags country  \\\n",
       "0     Finland visa|Finland workpermit visa|Finland s...      SA   \n",
       "1     Finland|Bucket List|Scandinavia|Food|Nature|Th...      SE   \n",
       "2     finland country|finland city|finland capital|f...      IN   \n",
       "3     Australia|abc|abc news|news|finland|russia|hac...      AU   \n",
       "4     #c_dream\\n#finland_work_visa_malayalam \\n#citi...      IN   \n",
       "...                                                 ...     ...   \n",
       "2235                                                       None   \n",
       "2236  treadmill scenery|treadmill running scenery|tr...      CA   \n",
       "2237  bumper|animation|scandinavia|skandinavien|sver...    None   \n",
       "2238                                             Racing    None   \n",
       "2239  Fernsehen|TV|Television|Openers|Intro|Intros|L...    None   \n",
       "\n",
       "     subscription_count  \n",
       "0                  None  \n",
       "1                  5620  \n",
       "2                326000  \n",
       "3               1240000  \n",
       "4                 97500  \n",
       "...                 ...  \n",
       "2235                290  \n",
       "2236                672  \n",
       "2237              45500  \n",
       "2238              60500  \n",
       "2239               2480  \n",
       "\n",
       "[2240 rows x 17 columns]"
      ]
     },
     "execution_count": 210,
     "metadata": {},
     "output_type": "execute_result"
    }
   ],
   "source": [
    "data_final"
   ]
  },
  {
   "cell_type": "markdown",
   "metadata": {},
   "source": [
    "# CLEANING AND PROCESSING DATA"
   ]
  },
  {
   "cell_type": "code",
   "execution_count": 211,
   "metadata": {
    "ExecuteTime": {
     "end_time": "2020-12-29T19:26:22.060769Z",
     "start_time": "2020-12-29T19:26:21.905763Z"
    }
   },
   "outputs": [],
   "source": [
    "data_final['video_publish_date']=pd.to_datetime(data_final['video_publish_date'],unit='s')"
   ]
  },
  {
   "cell_type": "code",
   "execution_count": 212,
   "metadata": {
    "ExecuteTime": {
     "end_time": "2020-12-29T19:26:23.129993Z",
     "start_time": "2020-12-29T19:26:23.037002Z"
    }
   },
   "outputs": [
    {
     "name": "stdout",
     "output_type": "stream",
     "text": [
      "<class 'pandas.core.frame.DataFrame'>\n",
      "Int64Index: 2240 entries, 0 to 2239\n",
      "Data columns (total 17 columns):\n",
      " #   Column               Non-Null Count  Dtype         \n",
      "---  ------               --------------  -----         \n",
      " 0   video_id             2240 non-null   object        \n",
      " 1   channel_title        2240 non-null   object        \n",
      " 2   channel_id           2240 non-null   object        \n",
      " 3   video_publish_date   2240 non-null   datetime64[ns]\n",
      " 4   video_title          2240 non-null   object        \n",
      " 5   video_description    2240 non-null   object        \n",
      " 6   video_category_x     0 non-null      object        \n",
      " 7   video_thumbnail      2240 non-null   object        \n",
      " 8   collection_date      2240 non-null   datetime64[ns]\n",
      " 9   video_category_y     2240 non-null   object        \n",
      " 10  video_view_count     2221 non-null   object        \n",
      " 11  video_comment_count  2158 non-null   object        \n",
      " 12  video_like_count     2180 non-null   object        \n",
      " 13  video_dislike_count  2180 non-null   object        \n",
      " 14  video_tags           2240 non-null   object        \n",
      " 15  country              1581 non-null   object        \n",
      " 16  subscription_count   2053 non-null   object        \n",
      "dtypes: datetime64[ns](2), object(15)\n",
      "memory usage: 315.0+ KB\n"
     ]
    }
   ],
   "source": [
    "data_final.info()"
   ]
  },
  {
   "cell_type": "code",
   "execution_count": 213,
   "metadata": {
    "ExecuteTime": {
     "end_time": "2020-12-29T19:26:24.530185Z",
     "start_time": "2020-12-29T19:26:24.510167Z"
    }
   },
   "outputs": [],
   "source": [
    "data_final=data_final[['video_id', 'channel_title','video_publish_date',\n",
    "       'video_title', 'video_description', 'video_category_y', 'video_view_count', 'video_comment_count',\n",
    "       'video_like_count', 'video_dislike_count', 'video_tags','country','subscription_count']]"
   ]
  },
  {
   "cell_type": "markdown",
   "metadata": {},
   "source": [
    "\"YouTube video content category: Influence how a video appears in YouTube search result. YouTube video content categories organize channels and videos on YouTube. Best applied category for video help audience to find video quickly\"\n",
    "\n",
    "https://techpostplus.com/youtube-video-categories-list-faqs-and-solutions/#:~:text=and%20save%20changes.-,YouTube%20video%20content%20category%3A%20Rank%20higher%20in%20YouTube%20search%20result,audience%20to%20find%20video%20quickly."
   ]
  },
  {
   "cell_type": "code",
   "execution_count": 214,
   "metadata": {
    "ExecuteTime": {
     "end_time": "2020-12-29T19:26:36.279566Z",
     "start_time": "2020-12-29T19:26:36.178572Z"
    }
   },
   "outputs": [
    {
     "data": {
      "text/html": [
       "<div>\n",
       "<style scoped>\n",
       "    .dataframe tbody tr th:only-of-type {\n",
       "        vertical-align: middle;\n",
       "    }\n",
       "\n",
       "    .dataframe tbody tr th {\n",
       "        vertical-align: top;\n",
       "    }\n",
       "\n",
       "    .dataframe thead th {\n",
       "        text-align: right;\n",
       "    }\n",
       "</style>\n",
       "<table border=\"1\" class=\"dataframe\">\n",
       "  <thead>\n",
       "    <tr style=\"text-align: right;\">\n",
       "      <th></th>\n",
       "      <th>video_id</th>\n",
       "      <th>channel_title</th>\n",
       "      <th>video_publish_date</th>\n",
       "      <th>video_title</th>\n",
       "      <th>video_description</th>\n",
       "      <th>video_category_y</th>\n",
       "      <th>video_view_count</th>\n",
       "      <th>video_comment_count</th>\n",
       "      <th>video_like_count</th>\n",
       "      <th>video_dislike_count</th>\n",
       "      <th>video_tags</th>\n",
       "      <th>country</th>\n",
       "      <th>subscription_count</th>\n",
       "    </tr>\n",
       "  </thead>\n",
       "  <tbody>\n",
       "    <tr>\n",
       "      <th>0</th>\n",
       "      <td>-bgSMJwNxto</td>\n",
       "      <td>Rahman Vlogs</td>\n",
       "      <td>2020-01-18 13:45:28</td>\n",
       "      <td>Finland should be better than Portugal for tem...</td>\n",
       "      <td>Finland temporary resident permit, how to get ...</td>\n",
       "      <td>22</td>\n",
       "      <td>48485</td>\n",
       "      <td>451</td>\n",
       "      <td>1915</td>\n",
       "      <td>102</td>\n",
       "      <td>Finland visa|Finland workpermit visa|Finland s...</td>\n",
       "      <td>SA</td>\n",
       "      <td>None</td>\n",
       "    </tr>\n",
       "    <tr>\n",
       "      <th>1</th>\n",
       "      <td>j3AkWDQ2zHo</td>\n",
       "      <td>Bright Freak</td>\n",
       "      <td>2020-01-21 18:06:42</td>\n",
       "      <td>Amazing Places to Visit in Finland</td>\n",
       "      <td>Read the article here: Visit our website: http...</td>\n",
       "      <td>22</td>\n",
       "      <td>4300</td>\n",
       "      <td>5</td>\n",
       "      <td>73</td>\n",
       "      <td>6</td>\n",
       "      <td>Finland|Bucket List|Scandinavia|Food|Nature|Th...</td>\n",
       "      <td>SE</td>\n",
       "      <td>5620</td>\n",
       "    </tr>\n",
       "    <tr>\n",
       "      <th>2</th>\n",
       "      <td>HQ08HOfWD9s</td>\n",
       "      <td>Ultimate knowledge</td>\n",
       "      <td>2020-01-06 05:09:38</td>\n",
       "      <td>finland amazing facts in hindi | Finland facts...</td>\n",
       "      <td>Finland is considered the happiest country in ...</td>\n",
       "      <td>27</td>\n",
       "      <td>6766</td>\n",
       "      <td>7</td>\n",
       "      <td>109</td>\n",
       "      <td>13</td>\n",
       "      <td>finland country|finland city|finland capital|f...</td>\n",
       "      <td>IN</td>\n",
       "      <td>326000</td>\n",
       "    </tr>\n",
       "    <tr>\n",
       "      <th>3</th>\n",
       "      <td>72U886OlMpg</td>\n",
       "      <td>ABC News (Australia)</td>\n",
       "      <td>2020-01-16 05:14:28</td>\n",
       "      <td>Finland facing the threat of Russian hackers |...</td>\n",
       "      <td>The Mueller report laid bare the extent of Rus...</td>\n",
       "      <td>25</td>\n",
       "      <td>5628</td>\n",
       "      <td>None</td>\n",
       "      <td>109</td>\n",
       "      <td>25</td>\n",
       "      <td>Australia|abc|abc news|news|finland|russia|hac...</td>\n",
       "      <td>AU</td>\n",
       "      <td>1240000</td>\n",
       "    </tr>\n",
       "    <tr>\n",
       "      <th>4</th>\n",
       "      <td>axoQ8G9hkPA</td>\n",
       "      <td>C Dream</td>\n",
       "      <td>2020-01-28 05:43:16</td>\n",
       "      <td>Finland seasonal work visa malayalam</td>\n",
       "      <td>oo USA visa malayalam https://youtu.be/mu2lEiV...</td>\n",
       "      <td>22</td>\n",
       "      <td>26821</td>\n",
       "      <td>175</td>\n",
       "      <td>887</td>\n",
       "      <td>34</td>\n",
       "      <td>#c_dream\\n#finland_work_visa_malayalam \\n#citi...</td>\n",
       "      <td>IN</td>\n",
       "      <td>97500</td>\n",
       "    </tr>\n",
       "  </tbody>\n",
       "</table>\n",
       "</div>"
      ],
      "text/plain": [
       "      video_id         channel_title  video_publish_date  \\\n",
       "0  -bgSMJwNxto          Rahman Vlogs 2020-01-18 13:45:28   \n",
       "1  j3AkWDQ2zHo          Bright Freak 2020-01-21 18:06:42   \n",
       "2  HQ08HOfWD9s    Ultimate knowledge 2020-01-06 05:09:38   \n",
       "3  72U886OlMpg  ABC News (Australia) 2020-01-16 05:14:28   \n",
       "4  axoQ8G9hkPA               C Dream 2020-01-28 05:43:16   \n",
       "\n",
       "                                         video_title  \\\n",
       "0  Finland should be better than Portugal for tem...   \n",
       "1                 Amazing Places to Visit in Finland   \n",
       "2  finland amazing facts in hindi | Finland facts...   \n",
       "3  Finland facing the threat of Russian hackers |...   \n",
       "4               Finland seasonal work visa malayalam   \n",
       "\n",
       "                                   video_description video_category_y  \\\n",
       "0  Finland temporary resident permit, how to get ...               22   \n",
       "1  Read the article here: Visit our website: http...               22   \n",
       "2  Finland is considered the happiest country in ...               27   \n",
       "3  The Mueller report laid bare the extent of Rus...               25   \n",
       "4  oo USA visa malayalam https://youtu.be/mu2lEiV...               22   \n",
       "\n",
       "  video_view_count video_comment_count video_like_count video_dislike_count  \\\n",
       "0            48485                 451             1915                 102   \n",
       "1             4300                   5               73                   6   \n",
       "2             6766                   7              109                  13   \n",
       "3             5628                None              109                  25   \n",
       "4            26821                 175              887                  34   \n",
       "\n",
       "                                          video_tags country  \\\n",
       "0  Finland visa|Finland workpermit visa|Finland s...      SA   \n",
       "1  Finland|Bucket List|Scandinavia|Food|Nature|Th...      SE   \n",
       "2  finland country|finland city|finland capital|f...      IN   \n",
       "3  Australia|abc|abc news|news|finland|russia|hac...      AU   \n",
       "4  #c_dream\\n#finland_work_visa_malayalam \\n#citi...      IN   \n",
       "\n",
       "  subscription_count  \n",
       "0               None  \n",
       "1               5620  \n",
       "2             326000  \n",
       "3            1240000  \n",
       "4              97500  "
      ]
     },
     "execution_count": 214,
     "metadata": {},
     "output_type": "execute_result"
    }
   ],
   "source": [
    "data_final.head()"
   ]
  },
  {
   "cell_type": "code",
   "execution_count": 215,
   "metadata": {
    "ExecuteTime": {
     "end_time": "2020-12-29T19:26:40.097161Z",
     "start_time": "2020-12-29T19:26:40.090162Z"
    }
   },
   "outputs": [],
   "source": [
    "data_final.rename(columns={'video_category_y':'video_category'},inplace=True)"
   ]
  },
  {
   "cell_type": "code",
   "execution_count": 216,
   "metadata": {
    "ExecuteTime": {
     "end_time": "2020-12-29T19:26:41.357065Z",
     "start_time": "2020-12-29T19:26:41.277046Z"
    }
   },
   "outputs": [
    {
     "name": "stdout",
     "output_type": "stream",
     "text": [
      "<class 'pandas.core.frame.DataFrame'>\n",
      "Int64Index: 2240 entries, 0 to 2239\n",
      "Data columns (total 13 columns):\n",
      " #   Column               Non-Null Count  Dtype         \n",
      "---  ------               --------------  -----         \n",
      " 0   video_id             2240 non-null   object        \n",
      " 1   channel_title        2240 non-null   object        \n",
      " 2   video_publish_date   2240 non-null   datetime64[ns]\n",
      " 3   video_title          2240 non-null   object        \n",
      " 4   video_description    2240 non-null   object        \n",
      " 5   video_category       2240 non-null   object        \n",
      " 6   video_view_count     2221 non-null   object        \n",
      " 7   video_comment_count  2158 non-null   object        \n",
      " 8   video_like_count     2180 non-null   object        \n",
      " 9   video_dislike_count  2180 non-null   object        \n",
      " 10  video_tags           2240 non-null   object        \n",
      " 11  country              1581 non-null   object        \n",
      " 12  subscription_count   2053 non-null   object        \n",
      "dtypes: datetime64[ns](1), object(12)\n",
      "memory usage: 245.0+ KB\n"
     ]
    }
   ],
   "source": [
    "data_final.info()"
   ]
  },
  {
   "cell_type": "markdown",
   "metadata": {},
   "source": [
    "## change datatypewhere necessary"
   ]
  },
  {
   "cell_type": "code",
   "execution_count": 217,
   "metadata": {
    "ExecuteTime": {
     "end_time": "2020-12-29T19:26:45.983163Z",
     "start_time": "2020-12-29T19:26:45.925179Z"
    },
    "scrolled": true
   },
   "outputs": [],
   "source": [
    "data_final[['video_view_count','video_comment_count','video_like_count','video_dislike_count','subscription_count']]=data_final[['video_view_count','video_comment_count','video_like_count','video_dislike_count','subscription_count']].astype('float64',errors='ignore')"
   ]
  },
  {
   "cell_type": "markdown",
   "metadata": {},
   "source": [
    "## Fix data here, save to csv (data 1.1.2020 to 29.12.2020)"
   ]
  },
  {
   "cell_type": "code",
   "execution_count": 218,
   "metadata": {
    "ExecuteTime": {
     "end_time": "2020-12-29T19:26:50.585191Z",
     "start_time": "2020-12-29T19:26:50.410206Z"
    }
   },
   "outputs": [],
   "source": [
    "data_final.to_csv('youtubedata2240.csv',index=False)"
   ]
  }
 ],
 "metadata": {
  "kernelspec": {
   "display_name": "Python 3",
   "language": "python",
   "name": "python3"
  },
  "language_info": {
   "codemirror_mode": {
    "name": "ipython",
    "version": 3
   },
   "file_extension": ".py",
   "mimetype": "text/x-python",
   "name": "python",
   "nbconvert_exporter": "python",
   "pygments_lexer": "ipython3",
   "version": "3.8.3"
  },
  "latex_envs": {
   "LaTeX_envs_menu_present": true,
   "autoclose": false,
   "autocomplete": true,
   "bibliofile": "biblio.bib",
   "cite_by": "apalike",
   "current_citInitial": 1,
   "eqLabelWithNumbers": true,
   "eqNumInitial": 1,
   "hotkeys": {
    "equation": "Ctrl-E",
    "itemize": "Ctrl-I"
   },
   "labels_anchors": false,
   "latex_user_defs": false,
   "report_style_numbering": false,
   "user_envs_cfg": false
  },
  "toc": {
   "base_numbering": 1,
   "nav_menu": {},
   "number_sections": true,
   "sideBar": true,
   "skip_h1_title": false,
   "title_cell": "Table of Contents",
   "title_sidebar": "Contents",
   "toc_cell": false,
   "toc_position": {},
   "toc_section_display": true,
   "toc_window_display": false
  },
  "varInspector": {
   "cols": {
    "lenName": 16,
    "lenType": 16,
    "lenVar": 40
   },
   "kernels_config": {
    "python": {
     "delete_cmd_postfix": "",
     "delete_cmd_prefix": "del ",
     "library": "var_list.py",
     "varRefreshCmd": "print(var_dic_list())"
    },
    "r": {
     "delete_cmd_postfix": ") ",
     "delete_cmd_prefix": "rm(",
     "library": "var_list.r",
     "varRefreshCmd": "cat(var_dic_list()) "
    }
   },
   "types_to_exclude": [
    "module",
    "function",
    "builtin_function_or_method",
    "instance",
    "_Feature"
   ],
   "window_display": false
  }
 },
 "nbformat": 4,
 "nbformat_minor": 4
}
